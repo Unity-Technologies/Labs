{
 "cells": [
  {
   "cell_type": "code",
   "execution_count": 7,
   "id": "detailed-kentucky",
   "metadata": {},
   "outputs": [],
   "source": [
    "# !pip install statsmodels matplotlib"
   ]
  },
  {
   "cell_type": "code",
   "execution_count": 2,
   "id": "approximate-slave",
   "metadata": {},
   "outputs": [],
   "source": [
    "import sys, os\n",
    "import numpy as np\n",
    "import pandas as pd\n",
    "import statsmodels.stats.api as sms\n",
    "\n",
    "sys.path.append(\"..\")\n",
    "\n",
    "ROOT_PATH = '/workspace/deeppose/training/logs/'\n",
    "LOGS_PATH = os.path.join(ROOT_PATH, 'deeppose_paper2021_minimixamo')\n"
   ]
  },
  {
   "cell_type": "code",
   "execution_count": 3,
   "id": "marked-protection",
   "metadata": {},
   "outputs": [],
   "source": [
    "from glob import glob\n",
    "import pandas as pd\n",
    "from tensorboard.backend.event_processing.event_accumulator import EventAccumulator\n",
    "\n",
    "metrics = ['benchmark/test/random/fk', 'benchmark/test/random/position', 'benchmark/test/random/rotation',\n",
    "           'benchmark/test/fivepoint/fk', 'benchmark/test/fivepoint/position', 'benchmark/test/fivepoint/rotation'\n",
    "          ]\n",
    "\n",
    "\n",
    "def read_experiment_data(experiement_dir, experiment_pattern, metrics=None):\n",
    "    experiemnt_folder_list = glob(os.path.join(experiement_dir, experiment_pattern))\n",
    "    experiment_data_tst = {}\n",
    "    index_max_tst = 0\n",
    "    \n",
    "    i=0    \n",
    "    for experiement in experiemnt_folder_list:\n",
    "        print(experiement)\n",
    "#         print(glob(os.path.join(experiement, 'events.out.tfevents.*')))\n",
    "        df_tst=[]\n",
    "        df_val=[]\n",
    "        for file in glob(os.path.join(experiement, 'events.out.tfevents.*')):\n",
    "            ea = EventAccumulator(file)\n",
    "            ea.Reload()\n",
    "            tags = ea.Tags()['scalars']\n",
    "            # print(tags)\n",
    "            \n",
    "            if not metrics[0] in tags:\n",
    "                continue \n",
    "                \n",
    "            columns = []\n",
    "            for m in metrics:\n",
    "                df = pd.DataFrame(ea.Scalars(m)).set_index('step').drop('wall_time', axis=1)\n",
    "                df.columns = [m]\n",
    "                columns.append(df)\n",
    "            data = pd.concat(columns, axis=1)\n",
    "            if len(data) > 0:\n",
    "                df_tst.append(data)\n",
    "         \n",
    "        if len(df_tst) > 0:\n",
    "            df_tst = pd.concat(df_tst).sort_index()\n",
    "        \n",
    "        if len(df_tst) > 0:\n",
    "            experiment_data_tst[experiement+file] = df_tst\n",
    "    \n",
    "    return experiment_data_tst\n",
    "\n",
    "\n",
    "def get_stats(df: pd.DataFrame, stats_steps = 100):\n",
    "\n",
    "    df_observations = []\n",
    "    for k, v in df.items():\n",
    "        df_observations.append(v[-stats_steps:])\n",
    "\n",
    "    df_observations = pd.concat(df_observations)\n",
    "    df_stats = pd.DataFrame(df_observations.mean(), columns=['mean'])\n",
    "    df_stats['ci_low'] = sms.DescrStatsW(df_observations).tconfint_mean()[0]\n",
    "    df_stats['ci_high'] = sms.DescrStatsW(df_observations).tconfint_mean()[1]\n",
    "    \n",
    "    return df_stats"
   ]
  },
  {
   "cell_type": "code",
   "execution_count": 6,
   "id": "frozen-immune",
   "metadata": {},
   "outputs": [
    {
     "name": "stdout",
     "output_type": "stream",
     "text": [
      "/workspace/deeppose/training/logs/deeppose_paper2021_minimixamo/encoder_blocks/seed_1-num_blocks_encoder_3-num_blocks_ikd_3-fk_loss_scale_100.0\n",
      "/workspace/deeppose/training/logs/deeppose_paper2021_minimixamo/encoder_blocks/seed_3-num_blocks_encoder_3-num_blocks_ikd_3-fk_loss_scale_100.0\n",
      "/workspace/deeppose/training/logs/deeppose_paper2021_minimixamo/encoder_blocks/seed_2-num_blocks_encoder_3-num_blocks_ikd_3-fk_loss_scale_100.0\n",
      "/workspace/deeppose/training/logs/deeppose_paper2021_minimixamo/encoder_blocks/seed_0-num_blocks_encoder_3-num_blocks_ikd_3-fk_loss_scale_100.0\n"
     ]
    },
    {
     "data": {
      "text/html": [
       "<div>\n",
       "<style scoped>\n",
       "    .dataframe tbody tr th:only-of-type {\n",
       "        vertical-align: middle;\n",
       "    }\n",
       "\n",
       "    .dataframe tbody tr th {\n",
       "        vertical-align: top;\n",
       "    }\n",
       "\n",
       "    .dataframe thead th {\n",
       "        text-align: right;\n",
       "    }\n",
       "</style>\n",
       "<table border=\"1\" class=\"dataframe\">\n",
       "  <thead>\n",
       "    <tr style=\"text-align: right;\">\n",
       "      <th></th>\n",
       "      <th>mean</th>\n",
       "      <th>ci_low</th>\n",
       "      <th>ci_high</th>\n",
       "    </tr>\n",
       "  </thead>\n",
       "  <tbody>\n",
       "    <tr>\n",
       "      <th>benchmark/test/random/fk</th>\n",
       "      <td>0.00416</td>\n",
       "      <td>0.00415</td>\n",
       "      <td>0.00417</td>\n",
       "    </tr>\n",
       "    <tr>\n",
       "      <th>benchmark/test/random/position</th>\n",
       "      <td>0.00136</td>\n",
       "      <td>0.00135</td>\n",
       "      <td>0.00137</td>\n",
       "    </tr>\n",
       "    <tr>\n",
       "      <th>benchmark/test/random/rotation</th>\n",
       "      <td>0.23814</td>\n",
       "      <td>0.23797</td>\n",
       "      <td>0.23832</td>\n",
       "    </tr>\n",
       "    <tr>\n",
       "      <th>benchmark/test/fivepoint/fk</th>\n",
       "      <td>0.00202</td>\n",
       "      <td>0.00201</td>\n",
       "      <td>0.00203</td>\n",
       "    </tr>\n",
       "    <tr>\n",
       "      <th>benchmark/test/fivepoint/position</th>\n",
       "      <td>0.00100</td>\n",
       "      <td>0.00099</td>\n",
       "      <td>0.00100</td>\n",
       "    </tr>\n",
       "    <tr>\n",
       "      <th>benchmark/test/fivepoint/rotation</th>\n",
       "      <td>0.25343</td>\n",
       "      <td>0.25319</td>\n",
       "      <td>0.25367</td>\n",
       "    </tr>\n",
       "  </tbody>\n",
       "</table>\n",
       "</div>"
      ],
      "text/plain": [
       "                                      mean   ci_low  ci_high\n",
       "benchmark/test/random/fk           0.00416  0.00415  0.00417\n",
       "benchmark/test/random/position     0.00136  0.00135  0.00137\n",
       "benchmark/test/random/rotation     0.23814  0.23797  0.23832\n",
       "benchmark/test/fivepoint/fk        0.00202  0.00201  0.00203\n",
       "benchmark/test/fivepoint/position  0.00100  0.00099  0.00100\n",
       "benchmark/test/fivepoint/rotation  0.25343  0.25319  0.25367"
      ]
     },
     "execution_count": 6,
     "metadata": {},
     "output_type": "execute_result"
    }
   ],
   "source": [
    "# lambda-a6000-1\n",
    "experiment = 'encoder_blocks/seed_*-num_blocks_encoder_3-num_blocks_ikd_3-fk_loss_scale_100.0'\n",
    "\n",
    "df = read_experiment_data(experiement_dir=os.path.join(ROOT_PATH, LOGS_PATH), experiment_pattern=experiment, metrics=metrics)\n",
    "get_stats(df).round(5)"
   ]
  },
  {
   "cell_type": "code",
   "execution_count": 5,
   "id": "a01d5365",
   "metadata": {},
   "outputs": [
    {
     "name": "stdout",
     "output_type": "stream",
     "text": [
      "/workspace/deeppose/training/logs/deeppose_paper2021_minimixamo/encoder_blocks/seed_0-num_blocks_encoder_3-num_blocks_ikd_0-fk_loss_scale_100.0\n",
      "/workspace/deeppose/training/logs/deeppose_paper2021_minimixamo/encoder_blocks/seed_1-num_blocks_encoder_3-num_blocks_ikd_0-fk_loss_scale_100.0\n"
     ]
    },
    {
     "data": {
      "text/html": [
       "<div>\n",
       "<style scoped>\n",
       "    .dataframe tbody tr th:only-of-type {\n",
       "        vertical-align: middle;\n",
       "    }\n",
       "\n",
       "    .dataframe tbody tr th {\n",
       "        vertical-align: top;\n",
       "    }\n",
       "\n",
       "    .dataframe thead th {\n",
       "        text-align: right;\n",
       "    }\n",
       "</style>\n",
       "<table border=\"1\" class=\"dataframe\">\n",
       "  <thead>\n",
       "    <tr style=\"text-align: right;\">\n",
       "      <th></th>\n",
       "      <th>mean</th>\n",
       "      <th>ci_low</th>\n",
       "      <th>ci_high</th>\n",
       "    </tr>\n",
       "  </thead>\n",
       "  <tbody>\n",
       "    <tr>\n",
       "      <th>benchmark/test/random/fk</th>\n",
       "      <td>0.004589</td>\n",
       "      <td>0.004574</td>\n",
       "      <td>0.004605</td>\n",
       "    </tr>\n",
       "    <tr>\n",
       "      <th>benchmark/test/random/position</th>\n",
       "      <td>0.001539</td>\n",
       "      <td>0.001530</td>\n",
       "      <td>0.001549</td>\n",
       "    </tr>\n",
       "    <tr>\n",
       "      <th>benchmark/test/random/rotation</th>\n",
       "      <td>0.248547</td>\n",
       "      <td>0.248343</td>\n",
       "      <td>0.248751</td>\n",
       "    </tr>\n",
       "  </tbody>\n",
       "</table>\n",
       "</div>"
      ],
      "text/plain": [
       "                                    mean    ci_low   ci_high\n",
       "benchmark/test/random/fk        0.004589  0.004574  0.004605\n",
       "benchmark/test/random/position  0.001539  0.001530  0.001549\n",
       "benchmark/test/random/rotation  0.248547  0.248343  0.248751"
      ]
     },
     "execution_count": 5,
     "metadata": {},
     "output_type": "execute_result"
    }
   ],
   "source": [
    "# r720-1\n",
    "experiment = 'encoder_blocks/seed_*-num_blocks_encoder_3-num_blocks_ikd_0-fk_loss_scale_100.0'\n",
    "\n",
    "df = read_experiment_data(experiement_dir=os.path.join(ROOT_PATH, LOGS_PATH), experiment_pattern=experiment, metrics=metrics)\n",
    "get_stats(df).round(5)"
   ]
  },
  {
   "cell_type": "code",
   "execution_count": 6,
   "id": "c0cc0d7d",
   "metadata": {},
   "outputs": [
    {
     "name": "stdout",
     "output_type": "stream",
     "text": [
      "/workspace/deeppose/training/logs/deeppose_paper2021_minimixamo/encoder_blocks/seed_1-num_blocks_encoder_3-num_blocks_ikd_1-fk_loss_scale_100.0\n",
      "/workspace/deeppose/training/logs/deeppose_paper2021_minimixamo/encoder_blocks/seed_0-num_blocks_encoder_3-num_blocks_ikd_1-fk_loss_scale_100.0\n"
     ]
    },
    {
     "data": {
      "text/html": [
       "<div>\n",
       "<style scoped>\n",
       "    .dataframe tbody tr th:only-of-type {\n",
       "        vertical-align: middle;\n",
       "    }\n",
       "\n",
       "    .dataframe tbody tr th {\n",
       "        vertical-align: top;\n",
       "    }\n",
       "\n",
       "    .dataframe thead th {\n",
       "        text-align: right;\n",
       "    }\n",
       "</style>\n",
       "<table border=\"1\" class=\"dataframe\">\n",
       "  <thead>\n",
       "    <tr style=\"text-align: right;\">\n",
       "      <th></th>\n",
       "      <th>mean</th>\n",
       "      <th>ci_low</th>\n",
       "      <th>ci_high</th>\n",
       "    </tr>\n",
       "  </thead>\n",
       "  <tbody>\n",
       "    <tr>\n",
       "      <th>benchmark/test/random/fk</th>\n",
       "      <td>0.004358</td>\n",
       "      <td>0.004346</td>\n",
       "      <td>0.004370</td>\n",
       "    </tr>\n",
       "    <tr>\n",
       "      <th>benchmark/test/random/position</th>\n",
       "      <td>0.001352</td>\n",
       "      <td>0.001344</td>\n",
       "      <td>0.001361</td>\n",
       "    </tr>\n",
       "    <tr>\n",
       "      <th>benchmark/test/random/rotation</th>\n",
       "      <td>0.243310</td>\n",
       "      <td>0.243185</td>\n",
       "      <td>0.243436</td>\n",
       "    </tr>\n",
       "  </tbody>\n",
       "</table>\n",
       "</div>"
      ],
      "text/plain": [
       "                                    mean    ci_low   ci_high\n",
       "benchmark/test/random/fk        0.004358  0.004346  0.004370\n",
       "benchmark/test/random/position  0.001352  0.001344  0.001361\n",
       "benchmark/test/random/rotation  0.243310  0.243185  0.243436"
      ]
     },
     "execution_count": 6,
     "metadata": {},
     "output_type": "execute_result"
    }
   ],
   "source": [
    "# r720-1\n",
    "experiment = 'encoder_blocks/seed_*-num_blocks_encoder_3-num_blocks_ikd_1-fk_loss_scale_100.0'\n",
    "\n",
    "df = read_experiment_data(experiement_dir=os.path.join(ROOT_PATH, LOGS_PATH), experiment_pattern=experiment, metrics=metrics)\n",
    "get_stats(df).round(5)"
   ]
  },
  {
   "cell_type": "code",
   "execution_count": 7,
   "id": "967c63ef",
   "metadata": {},
   "outputs": [
    {
     "name": "stdout",
     "output_type": "stream",
     "text": [
      "/workspace/deeppose/training/logs/deeppose_paper2021_minimixamo/encoder_blocks/seed_1-num_blocks_encoder_3-num_blocks_ikd_2-fk_loss_scale_100.0\n",
      "/workspace/deeppose/training/logs/deeppose_paper2021_minimixamo/encoder_blocks/seed_0-num_blocks_encoder_3-num_blocks_ikd_2-fk_loss_scale_100.0\n"
     ]
    },
    {
     "data": {
      "text/html": [
       "<div>\n",
       "<style scoped>\n",
       "    .dataframe tbody tr th:only-of-type {\n",
       "        vertical-align: middle;\n",
       "    }\n",
       "\n",
       "    .dataframe tbody tr th {\n",
       "        vertical-align: top;\n",
       "    }\n",
       "\n",
       "    .dataframe thead th {\n",
       "        text-align: right;\n",
       "    }\n",
       "</style>\n",
       "<table border=\"1\" class=\"dataframe\">\n",
       "  <thead>\n",
       "    <tr style=\"text-align: right;\">\n",
       "      <th></th>\n",
       "      <th>mean</th>\n",
       "      <th>ci_low</th>\n",
       "      <th>ci_high</th>\n",
       "    </tr>\n",
       "  </thead>\n",
       "  <tbody>\n",
       "    <tr>\n",
       "      <th>benchmark/test/random/fk</th>\n",
       "      <td>0.004242</td>\n",
       "      <td>0.004224</td>\n",
       "      <td>0.004261</td>\n",
       "    </tr>\n",
       "    <tr>\n",
       "      <th>benchmark/test/random/position</th>\n",
       "      <td>0.001341</td>\n",
       "      <td>0.001327</td>\n",
       "      <td>0.001355</td>\n",
       "    </tr>\n",
       "    <tr>\n",
       "      <th>benchmark/test/random/rotation</th>\n",
       "      <td>0.239915</td>\n",
       "      <td>0.239746</td>\n",
       "      <td>0.240085</td>\n",
       "    </tr>\n",
       "  </tbody>\n",
       "</table>\n",
       "</div>"
      ],
      "text/plain": [
       "                                    mean    ci_low   ci_high\n",
       "benchmark/test/random/fk        0.004242  0.004224  0.004261\n",
       "benchmark/test/random/position  0.001341  0.001327  0.001355\n",
       "benchmark/test/random/rotation  0.239915  0.239746  0.240085"
      ]
     },
     "execution_count": 7,
     "metadata": {},
     "output_type": "execute_result"
    }
   ],
   "source": [
    "# r720-1\n",
    "experiment = 'encoder_blocks/seed_*-num_blocks_encoder_3-num_blocks_ikd_2-fk_loss_scale_100.0'\n",
    "\n",
    "df = read_experiment_data(experiement_dir=os.path.join(ROOT_PATH, LOGS_PATH), experiment_pattern=experiment, metrics=metrics)\n",
    "get_stats(df).round(5)"
   ]
  },
  {
   "cell_type": "code",
   "execution_count": 5,
   "id": "continuous-portugal",
   "metadata": {},
   "outputs": [
    {
     "name": "stdout",
     "output_type": "stream",
     "text": [
      "/workspace/deeppose/training/logs/deeppose_paper2021_minimixamo/encoder_blocks/seed_0-num_blocks_encoder_5-num_blocks_ikd_0-fk_loss_scale_100.0\n",
      "/workspace/deeppose/training/logs/deeppose_paper2021_minimixamo/encoder_blocks/seed_1-num_blocks_encoder_5-num_blocks_ikd_0-fk_loss_scale_100.0\n"
     ]
    },
    {
     "data": {
      "text/html": [
       "<div>\n",
       "<style scoped>\n",
       "    .dataframe tbody tr th:only-of-type {\n",
       "        vertical-align: middle;\n",
       "    }\n",
       "\n",
       "    .dataframe tbody tr th {\n",
       "        vertical-align: top;\n",
       "    }\n",
       "\n",
       "    .dataframe thead th {\n",
       "        text-align: right;\n",
       "    }\n",
       "</style>\n",
       "<table border=\"1\" class=\"dataframe\">\n",
       "  <thead>\n",
       "    <tr style=\"text-align: right;\">\n",
       "      <th></th>\n",
       "      <th>mean</th>\n",
       "      <th>ci_low</th>\n",
       "      <th>ci_high</th>\n",
       "    </tr>\n",
       "  </thead>\n",
       "  <tbody>\n",
       "    <tr>\n",
       "      <th>benchmark/test/random/fk</th>\n",
       "      <td>0.004201</td>\n",
       "      <td>0.004190</td>\n",
       "      <td>0.004213</td>\n",
       "    </tr>\n",
       "    <tr>\n",
       "      <th>benchmark/test/random/position</th>\n",
       "      <td>0.001265</td>\n",
       "      <td>0.001257</td>\n",
       "      <td>0.001273</td>\n",
       "    </tr>\n",
       "    <tr>\n",
       "      <th>benchmark/test/random/rotation</th>\n",
       "      <td>0.239908</td>\n",
       "      <td>0.239720</td>\n",
       "      <td>0.240096</td>\n",
       "    </tr>\n",
       "  </tbody>\n",
       "</table>\n",
       "</div>"
      ],
      "text/plain": [
       "                                    mean    ci_low   ci_high\n",
       "benchmark/test/random/fk        0.004201  0.004190  0.004213\n",
       "benchmark/test/random/position  0.001265  0.001257  0.001273\n",
       "benchmark/test/random/rotation  0.239908  0.239720  0.240096"
      ]
     },
     "execution_count": 5,
     "metadata": {},
     "output_type": "execute_result"
    }
   ],
   "source": [
    "# lambda-a6000-1\n",
    "experiment = 'encoder_blocks/seed_*-num_blocks_encoder_5-num_blocks_ikd_0-fk_loss_scale_100.0'\n",
    "\n",
    "df = read_experiment_data(experiement_dir=os.path.join(ROOT_PATH, LOGS_PATH), experiment_pattern=experiment, metrics=metrics)\n",
    "get_stats(df).round(5)"
   ]
  },
  {
   "cell_type": "code",
   "execution_count": 7,
   "id": "c66cb50f",
   "metadata": {},
   "outputs": [
    {
     "name": "stdout",
     "output_type": "stream",
     "text": [
      "/workspace/deeppose/training/logs/deeppose_paper2021_minimixamo/encoder_blocks/seed_1-num_blocks_encoder_5-num_blocks_ikd_1-fk_loss_scale_100.0\n",
      "/workspace/deeppose/training/logs/deeppose_paper2021_minimixamo/encoder_blocks/seed_0-num_blocks_encoder_5-num_blocks_ikd_1-fk_loss_scale_100.0\n"
     ]
    },
    {
     "data": {
      "text/html": [
       "<div>\n",
       "<style scoped>\n",
       "    .dataframe tbody tr th:only-of-type {\n",
       "        vertical-align: middle;\n",
       "    }\n",
       "\n",
       "    .dataframe tbody tr th {\n",
       "        vertical-align: top;\n",
       "    }\n",
       "\n",
       "    .dataframe thead th {\n",
       "        text-align: right;\n",
       "    }\n",
       "</style>\n",
       "<table border=\"1\" class=\"dataframe\">\n",
       "  <thead>\n",
       "    <tr style=\"text-align: right;\">\n",
       "      <th></th>\n",
       "      <th>mean</th>\n",
       "      <th>ci_low</th>\n",
       "      <th>ci_high</th>\n",
       "    </tr>\n",
       "  </thead>\n",
       "  <tbody>\n",
       "    <tr>\n",
       "      <th>benchmark/test/random/fk</th>\n",
       "      <td>0.004296</td>\n",
       "      <td>0.004273</td>\n",
       "      <td>0.004320</td>\n",
       "    </tr>\n",
       "    <tr>\n",
       "      <th>benchmark/test/random/position</th>\n",
       "      <td>0.001280</td>\n",
       "      <td>0.001266</td>\n",
       "      <td>0.001294</td>\n",
       "    </tr>\n",
       "    <tr>\n",
       "      <th>benchmark/test/random/rotation</th>\n",
       "      <td>0.239028</td>\n",
       "      <td>0.238605</td>\n",
       "      <td>0.239452</td>\n",
       "    </tr>\n",
       "  </tbody>\n",
       "</table>\n",
       "</div>"
      ],
      "text/plain": [
       "                                    mean    ci_low   ci_high\n",
       "benchmark/test/random/fk        0.004296  0.004273  0.004320\n",
       "benchmark/test/random/position  0.001280  0.001266  0.001294\n",
       "benchmark/test/random/rotation  0.239028  0.238605  0.239452"
      ]
     },
     "execution_count": 7,
     "metadata": {},
     "output_type": "execute_result"
    }
   ],
   "source": [
    "# r720-2\n",
    "experiment = 'encoder_blocks/seed_*-num_blocks_encoder_5-num_blocks_ikd_1-fk_loss_scale_100.0'\n",
    "\n",
    "df = read_experiment_data(experiement_dir=os.path.join(ROOT_PATH, LOGS_PATH), experiment_pattern=experiment, metrics=metrics)\n",
    "get_stats(df).round(5)"
   ]
  },
  {
   "cell_type": "code",
   "execution_count": 8,
   "id": "f5fef4f8",
   "metadata": {},
   "outputs": [
    {
     "name": "stdout",
     "output_type": "stream",
     "text": [
      "/workspace/deeppose/training/logs/deeppose_paper2021_minimixamo/encoder_blocks/seed_1-num_blocks_encoder_5-num_blocks_ikd_2-fk_loss_scale_100.0\n",
      "/workspace/deeppose/training/logs/deeppose_paper2021_minimixamo/encoder_blocks/seed_0-num_blocks_encoder_5-num_blocks_ikd_2-fk_loss_scale_100.0\n"
     ]
    },
    {
     "data": {
      "text/html": [
       "<div>\n",
       "<style scoped>\n",
       "    .dataframe tbody tr th:only-of-type {\n",
       "        vertical-align: middle;\n",
       "    }\n",
       "\n",
       "    .dataframe tbody tr th {\n",
       "        vertical-align: top;\n",
       "    }\n",
       "\n",
       "    .dataframe thead th {\n",
       "        text-align: right;\n",
       "    }\n",
       "</style>\n",
       "<table border=\"1\" class=\"dataframe\">\n",
       "  <thead>\n",
       "    <tr style=\"text-align: right;\">\n",
       "      <th></th>\n",
       "      <th>mean</th>\n",
       "      <th>ci_low</th>\n",
       "      <th>ci_high</th>\n",
       "    </tr>\n",
       "  </thead>\n",
       "  <tbody>\n",
       "    <tr>\n",
       "      <th>benchmark/test/random/fk</th>\n",
       "      <td>0.004023</td>\n",
       "      <td>0.004013</td>\n",
       "      <td>0.004033</td>\n",
       "    </tr>\n",
       "    <tr>\n",
       "      <th>benchmark/test/random/position</th>\n",
       "      <td>0.001151</td>\n",
       "      <td>0.001145</td>\n",
       "      <td>0.001157</td>\n",
       "    </tr>\n",
       "    <tr>\n",
       "      <th>benchmark/test/random/rotation</th>\n",
       "      <td>0.234500</td>\n",
       "      <td>0.234352</td>\n",
       "      <td>0.234648</td>\n",
       "    </tr>\n",
       "  </tbody>\n",
       "</table>\n",
       "</div>"
      ],
      "text/plain": [
       "                                    mean    ci_low   ci_high\n",
       "benchmark/test/random/fk        0.004023  0.004013  0.004033\n",
       "benchmark/test/random/position  0.001151  0.001145  0.001157\n",
       "benchmark/test/random/rotation  0.234500  0.234352  0.234648"
      ]
     },
     "execution_count": 8,
     "metadata": {},
     "output_type": "execute_result"
    }
   ],
   "source": [
    "# r720-2\n",
    "experiment = 'encoder_blocks/seed_*-num_blocks_encoder_5-num_blocks_ikd_2-fk_loss_scale_100.0'\n",
    "\n",
    "df = read_experiment_data(experiement_dir=os.path.join(ROOT_PATH, LOGS_PATH), experiment_pattern=experiment, metrics=metrics)\n",
    "get_stats(df).round(5)"
   ]
  },
  {
   "cell_type": "code",
   "execution_count": 6,
   "id": "comparable-benefit",
   "metadata": {},
   "outputs": [
    {
     "name": "stdout",
     "output_type": "stream",
     "text": [
      "/workspace/deeppose/training/logs/deeppose_paper2021_minimixamo/encoder_blocks/seed_3-num_blocks_encoder_5-num_blocks_ikd_3-fk_loss_scale_100.0\n",
      "/workspace/deeppose/training/logs/deeppose_paper2021_minimixamo/encoder_blocks/seed_0-num_blocks_encoder_5-num_blocks_ikd_3-fk_loss_scale_100.0\n",
      "/workspace/deeppose/training/logs/deeppose_paper2021_minimixamo/encoder_blocks/seed_1-num_blocks_encoder_5-num_blocks_ikd_3-fk_loss_scale_100.0\n",
      "/workspace/deeppose/training/logs/deeppose_paper2021_minimixamo/encoder_blocks/seed_2-num_blocks_encoder_5-num_blocks_ikd_3-fk_loss_scale_100.0\n"
     ]
    },
    {
     "data": {
      "text/html": [
       "<div>\n",
       "<style scoped>\n",
       "    .dataframe tbody tr th:only-of-type {\n",
       "        vertical-align: middle;\n",
       "    }\n",
       "\n",
       "    .dataframe tbody tr th {\n",
       "        vertical-align: top;\n",
       "    }\n",
       "\n",
       "    .dataframe thead th {\n",
       "        text-align: right;\n",
       "    }\n",
       "</style>\n",
       "<table border=\"1\" class=\"dataframe\">\n",
       "  <thead>\n",
       "    <tr style=\"text-align: right;\">\n",
       "      <th></th>\n",
       "      <th>mean</th>\n",
       "      <th>ci_low</th>\n",
       "      <th>ci_high</th>\n",
       "    </tr>\n",
       "  </thead>\n",
       "  <tbody>\n",
       "    <tr>\n",
       "      <th>benchmark/test/random/fk</th>\n",
       "      <td>0.004030</td>\n",
       "      <td>0.004020</td>\n",
       "      <td>0.004040</td>\n",
       "    </tr>\n",
       "    <tr>\n",
       "      <th>benchmark/test/random/position</th>\n",
       "      <td>0.001183</td>\n",
       "      <td>0.001176</td>\n",
       "      <td>0.001190</td>\n",
       "    </tr>\n",
       "    <tr>\n",
       "      <th>benchmark/test/random/rotation</th>\n",
       "      <td>0.235114</td>\n",
       "      <td>0.234994</td>\n",
       "      <td>0.235235</td>\n",
       "    </tr>\n",
       "  </tbody>\n",
       "</table>\n",
       "</div>"
      ],
      "text/plain": [
       "                                    mean    ci_low   ci_high\n",
       "benchmark/test/random/fk        0.004030  0.004020  0.004040\n",
       "benchmark/test/random/position  0.001183  0.001176  0.001190\n",
       "benchmark/test/random/rotation  0.235114  0.234994  0.235235"
      ]
     },
     "execution_count": 6,
     "metadata": {},
     "output_type": "execute_result"
    }
   ],
   "source": [
    "# lambda-dual2\n",
    "experiment = 'encoder_blocks/seed_*-num_blocks_encoder_5-num_blocks_ikd_3-fk_loss_scale_100.0'\n",
    "\n",
    "df = read_experiment_data(experiement_dir=os.path.join(ROOT_PATH, LOGS_PATH), experiment_pattern=experiment, metrics=metrics)\n",
    "get_stats(df).round(5)"
   ]
  },
  {
   "cell_type": "code",
   "execution_count": 27,
   "id": "effective-buffer",
   "metadata": {},
   "outputs": [
    {
     "name": "stdout",
     "output_type": "stream",
     "text": [
      "/workspace/deeppose/training/logs/deeppose_paper2021_minimixamo/encoder_blocks/seed_0-num_blocks_encoder_7-num_blocks_ikd_0-fk_loss_scale_100.0\n",
      "/workspace/deeppose/training/logs/deeppose_paper2021_minimixamo/encoder_blocks/seed_1-num_blocks_encoder_7-num_blocks_ikd_0-fk_loss_scale_100.0\n"
     ]
    },
    {
     "data": {
      "text/html": [
       "<div>\n",
       "<style scoped>\n",
       "    .dataframe tbody tr th:only-of-type {\n",
       "        vertical-align: middle;\n",
       "    }\n",
       "\n",
       "    .dataframe tbody tr th {\n",
       "        vertical-align: top;\n",
       "    }\n",
       "\n",
       "    .dataframe thead th {\n",
       "        text-align: right;\n",
       "    }\n",
       "</style>\n",
       "<table border=\"1\" class=\"dataframe\">\n",
       "  <thead>\n",
       "    <tr style=\"text-align: right;\">\n",
       "      <th></th>\n",
       "      <th>mean</th>\n",
       "      <th>ci_low</th>\n",
       "      <th>ci_high</th>\n",
       "    </tr>\n",
       "  </thead>\n",
       "  <tbody>\n",
       "    <tr>\n",
       "      <th>benchmark/test/random/fk</th>\n",
       "      <td>0.004000</td>\n",
       "      <td>0.003989</td>\n",
       "      <td>0.004011</td>\n",
       "    </tr>\n",
       "    <tr>\n",
       "      <th>benchmark/test/random/position</th>\n",
       "      <td>0.001126</td>\n",
       "      <td>0.001120</td>\n",
       "      <td>0.001132</td>\n",
       "    </tr>\n",
       "    <tr>\n",
       "      <th>benchmark/test/random/rotation</th>\n",
       "      <td>0.235508</td>\n",
       "      <td>0.235360</td>\n",
       "      <td>0.235656</td>\n",
       "    </tr>\n",
       "  </tbody>\n",
       "</table>\n",
       "</div>"
      ],
      "text/plain": [
       "                                    mean    ci_low   ci_high\n",
       "benchmark/test/random/fk        0.004000  0.003989  0.004011\n",
       "benchmark/test/random/position  0.001126  0.001120  0.001132\n",
       "benchmark/test/random/rotation  0.235508  0.235360  0.235656"
      ]
     },
     "execution_count": 27,
     "metadata": {},
     "output_type": "execute_result"
    }
   ],
   "source": [
    "# lambda-dual2\n",
    "experiment = 'encoder_blocks/seed_*-num_blocks_encoder_7-num_blocks_ikd_0-fk_loss_scale_100.0'\n",
    "\n",
    "df = read_experiment_data(experiement_dir=os.path.join(ROOT_PATH, LOGS_PATH), experiment_pattern=experiment, metrics=metrics)\n",
    "get_stats(df)"
   ]
  },
  {
   "cell_type": "code",
   "execution_count": 28,
   "id": "mineral-fundamental",
   "metadata": {},
   "outputs": [
    {
     "name": "stdout",
     "output_type": "stream",
     "text": [
      "/workspace/deeppose/training/logs/deeppose_paper2021_minimixamo/encoder_blocks/seed_0-num_blocks_encoder_7-num_blocks_ikd_1-fk_loss_scale_100.0\n",
      "/workspace/deeppose/training/logs/deeppose_paper2021_minimixamo/encoder_blocks/seed_1-num_blocks_encoder_7-num_blocks_ikd_1-fk_loss_scale_100.0\n"
     ]
    },
    {
     "data": {
      "text/html": [
       "<div>\n",
       "<style scoped>\n",
       "    .dataframe tbody tr th:only-of-type {\n",
       "        vertical-align: middle;\n",
       "    }\n",
       "\n",
       "    .dataframe tbody tr th {\n",
       "        vertical-align: top;\n",
       "    }\n",
       "\n",
       "    .dataframe thead th {\n",
       "        text-align: right;\n",
       "    }\n",
       "</style>\n",
       "<table border=\"1\" class=\"dataframe\">\n",
       "  <thead>\n",
       "    <tr style=\"text-align: right;\">\n",
       "      <th></th>\n",
       "      <th>mean</th>\n",
       "      <th>ci_low</th>\n",
       "      <th>ci_high</th>\n",
       "    </tr>\n",
       "  </thead>\n",
       "  <tbody>\n",
       "    <tr>\n",
       "      <th>benchmark/test/random/fk</th>\n",
       "      <td>0.004160</td>\n",
       "      <td>0.004144</td>\n",
       "      <td>0.004177</td>\n",
       "    </tr>\n",
       "    <tr>\n",
       "      <th>benchmark/test/random/position</th>\n",
       "      <td>0.001233</td>\n",
       "      <td>0.001223</td>\n",
       "      <td>0.001242</td>\n",
       "    </tr>\n",
       "    <tr>\n",
       "      <th>benchmark/test/random/rotation</th>\n",
       "      <td>0.235628</td>\n",
       "      <td>0.235443</td>\n",
       "      <td>0.235813</td>\n",
       "    </tr>\n",
       "  </tbody>\n",
       "</table>\n",
       "</div>"
      ],
      "text/plain": [
       "                                    mean    ci_low   ci_high\n",
       "benchmark/test/random/fk        0.004160  0.004144  0.004177\n",
       "benchmark/test/random/position  0.001233  0.001223  0.001242\n",
       "benchmark/test/random/rotation  0.235628  0.235443  0.235813"
      ]
     },
     "execution_count": 28,
     "metadata": {},
     "output_type": "execute_result"
    }
   ],
   "source": [
    "# lambda-dual2\n",
    "experiment = 'encoder_blocks/seed_*-num_blocks_encoder_7-num_blocks_ikd_1-fk_loss_scale_100.0'\n",
    "\n",
    "df = read_experiment_data(experiement_dir=os.path.join(ROOT_PATH, LOGS_PATH), experiment_pattern=experiment, metrics=metrics)\n",
    "get_stats(df)"
   ]
  },
  {
   "cell_type": "code",
   "execution_count": 18,
   "id": "sufficient-culture",
   "metadata": {},
   "outputs": [
    {
     "name": "stdout",
     "output_type": "stream",
     "text": [
      "/workspace/deeppose/training/logs/deeppose_paper2021_minimixamo/encoder_blocks/seed_0-num_blocks_encoder_7-num_blocks_ikd_2-fk_loss_scale_100.0\n",
      "/workspace/deeppose/training/logs/deeppose_paper2021_minimixamo/encoder_blocks/seed_1-num_blocks_encoder_7-num_blocks_ikd_2-fk_loss_scale_100.0\n"
     ]
    },
    {
     "data": {
      "text/html": [
       "<div>\n",
       "<style scoped>\n",
       "    .dataframe tbody tr th:only-of-type {\n",
       "        vertical-align: middle;\n",
       "    }\n",
       "\n",
       "    .dataframe tbody tr th {\n",
       "        vertical-align: top;\n",
       "    }\n",
       "\n",
       "    .dataframe thead th {\n",
       "        text-align: right;\n",
       "    }\n",
       "</style>\n",
       "<table border=\"1\" class=\"dataframe\">\n",
       "  <thead>\n",
       "    <tr style=\"text-align: right;\">\n",
       "      <th></th>\n",
       "      <th>mean</th>\n",
       "      <th>ci_low</th>\n",
       "      <th>ci_high</th>\n",
       "    </tr>\n",
       "  </thead>\n",
       "  <tbody>\n",
       "    <tr>\n",
       "      <th>benchmark/test/random/fk</th>\n",
       "      <td>0.00451</td>\n",
       "      <td>0.00368</td>\n",
       "      <td>0.00533</td>\n",
       "    </tr>\n",
       "    <tr>\n",
       "      <th>benchmark/test/random/position</th>\n",
       "      <td>0.00134</td>\n",
       "      <td>0.00107</td>\n",
       "      <td>0.00161</td>\n",
       "    </tr>\n",
       "    <tr>\n",
       "      <th>benchmark/test/random/rotation</th>\n",
       "      <td>0.23833</td>\n",
       "      <td>0.23465</td>\n",
       "      <td>0.24201</td>\n",
       "    </tr>\n",
       "  </tbody>\n",
       "</table>\n",
       "</div>"
      ],
      "text/plain": [
       "                                   mean   ci_low  ci_high\n",
       "benchmark/test/random/fk        0.00451  0.00368  0.00533\n",
       "benchmark/test/random/position  0.00134  0.00107  0.00161\n",
       "benchmark/test/random/rotation  0.23833  0.23465  0.24201"
      ]
     },
     "execution_count": 18,
     "metadata": {},
     "output_type": "execute_result"
    }
   ],
   "source": [
    "# lambda-a6000-1\n",
    "experiment = 'encoder_blocks/seed_*-num_blocks_encoder_7-num_blocks_ikd_2-fk_loss_scale_100.0'\n",
    "\n",
    "df = read_experiment_data(experiement_dir=os.path.join(ROOT_PATH, LOGS_PATH), experiment_pattern=experiment, metrics=metrics)\n",
    "get_stats(df).round(5)"
   ]
  },
  {
   "cell_type": "code",
   "execution_count": 7,
   "id": "surrounded-above",
   "metadata": {},
   "outputs": [
    {
     "name": "stdout",
     "output_type": "stream",
     "text": [
      "/workspace/deeppose/training/logs/deeppose_paper2021_minimixamo/encoder_blocks/seed_2-num_blocks_encoder_7-num_blocks_ikd_3-fk_loss_scale_100.0\n",
      "/workspace/deeppose/training/logs/deeppose_paper2021_minimixamo/encoder_blocks/seed_1-num_blocks_encoder_7-num_blocks_ikd_3-fk_loss_scale_100.0\n"
     ]
    },
    {
     "data": {
      "text/html": [
       "<div>\n",
       "<style scoped>\n",
       "    .dataframe tbody tr th:only-of-type {\n",
       "        vertical-align: middle;\n",
       "    }\n",
       "\n",
       "    .dataframe tbody tr th {\n",
       "        vertical-align: top;\n",
       "    }\n",
       "\n",
       "    .dataframe thead th {\n",
       "        text-align: right;\n",
       "    }\n",
       "</style>\n",
       "<table border=\"1\" class=\"dataframe\">\n",
       "  <thead>\n",
       "    <tr style=\"text-align: right;\">\n",
       "      <th></th>\n",
       "      <th>mean</th>\n",
       "      <th>ci_low</th>\n",
       "      <th>ci_high</th>\n",
       "    </tr>\n",
       "  </thead>\n",
       "  <tbody>\n",
       "    <tr>\n",
       "      <th>benchmark/test/random/fk</th>\n",
       "      <td>0.003977</td>\n",
       "      <td>0.003963</td>\n",
       "      <td>0.003990</td>\n",
       "    </tr>\n",
       "    <tr>\n",
       "      <th>benchmark/test/random/position</th>\n",
       "      <td>0.001155</td>\n",
       "      <td>0.001146</td>\n",
       "      <td>0.001164</td>\n",
       "    </tr>\n",
       "    <tr>\n",
       "      <th>benchmark/test/random/rotation</th>\n",
       "      <td>0.235239</td>\n",
       "      <td>0.235033</td>\n",
       "      <td>0.235446</td>\n",
       "    </tr>\n",
       "  </tbody>\n",
       "</table>\n",
       "</div>"
      ],
      "text/plain": [
       "                                    mean    ci_low   ci_high\n",
       "benchmark/test/random/fk        0.003977  0.003963  0.003990\n",
       "benchmark/test/random/position  0.001155  0.001146  0.001164\n",
       "benchmark/test/random/rotation  0.235239  0.235033  0.235446"
      ]
     },
     "execution_count": 7,
     "metadata": {},
     "output_type": "execute_result"
    }
   ],
   "source": [
    "# lambda-a6000-1\n",
    "experiment = 'encoder_blocks/seed_*-num_blocks_encoder_7-num_blocks_ikd_3-fk_loss_scale_100.0'\n",
    "\n",
    "df = read_experiment_data(experiement_dir=os.path.join(ROOT_PATH, LOGS_PATH), experiment_pattern=experiment, metrics=metrics)\n",
    "get_stats(df).round(5)"
   ]
  },
  {
   "cell_type": "markdown",
   "id": "uniform-outdoors",
   "metadata": {},
   "source": [
    "## PointResNEt"
   ]
  },
  {
   "cell_type": "code",
   "execution_count": 9,
   "id": "entertaining-emerald",
   "metadata": {},
   "outputs": [
    {
     "name": "stdout",
     "output_type": "stream",
     "text": [
      "/workspace/deeppose/training/logs/deeppose_paper2021_minimixamo/rebuttal/point_resnet/seed_1-num_blocks_enc_3\n",
      "/workspace/deeppose/training/logs/deeppose_paper2021_minimixamo/rebuttal/point_resnet/seed_0-num_blocks_enc_3\n",
      "/workspace/deeppose/training/logs/deeppose_paper2021_minimixamo/rebuttal/point_resnet/seed_2-num_blocks_enc_3\n",
      "/workspace/deeppose/training/logs/deeppose_paper2021_minimixamo/rebuttal/point_resnet/seed_3-num_blocks_enc_3\n"
     ]
    },
    {
     "data": {
      "text/html": [
       "<div>\n",
       "<style scoped>\n",
       "    .dataframe tbody tr th:only-of-type {\n",
       "        vertical-align: middle;\n",
       "    }\n",
       "\n",
       "    .dataframe tbody tr th {\n",
       "        vertical-align: top;\n",
       "    }\n",
       "\n",
       "    .dataframe thead th {\n",
       "        text-align: right;\n",
       "    }\n",
       "</style>\n",
       "<table border=\"1\" class=\"dataframe\">\n",
       "  <thead>\n",
       "    <tr style=\"text-align: right;\">\n",
       "      <th></th>\n",
       "      <th>mean</th>\n",
       "      <th>ci_low</th>\n",
       "      <th>ci_high</th>\n",
       "    </tr>\n",
       "  </thead>\n",
       "  <tbody>\n",
       "    <tr>\n",
       "      <th>benchmark/test/random/fk</th>\n",
       "      <td>0.004269</td>\n",
       "      <td>0.004256</td>\n",
       "      <td>0.004282</td>\n",
       "    </tr>\n",
       "    <tr>\n",
       "      <th>benchmark/test/random/position</th>\n",
       "      <td>0.001388</td>\n",
       "      <td>0.001380</td>\n",
       "      <td>0.001396</td>\n",
       "    </tr>\n",
       "    <tr>\n",
       "      <th>benchmark/test/random/rotation</th>\n",
       "      <td>0.240251</td>\n",
       "      <td>0.240094</td>\n",
       "      <td>0.240408</td>\n",
       "    </tr>\n",
       "  </tbody>\n",
       "</table>\n",
       "</div>"
      ],
      "text/plain": [
       "                                    mean    ci_low   ci_high\n",
       "benchmark/test/random/fk        0.004269  0.004256  0.004282\n",
       "benchmark/test/random/position  0.001388  0.001380  0.001396\n",
       "benchmark/test/random/rotation  0.240251  0.240094  0.240408"
      ]
     },
     "execution_count": 9,
     "metadata": {},
     "output_type": "execute_result"
    }
   ],
   "source": [
    "# lambda-dual2\n",
    "experiment = 'rebuttal/point_resnet/seed_*-num_blocks_enc_3'\n",
    "\n",
    "df = read_experiment_data(experiement_dir=os.path.join(ROOT_PATH, LOGS_PATH), experiment_pattern=experiment, metrics=metrics)\n",
    "get_stats(df).round(5)"
   ]
  },
  {
   "cell_type": "code",
   "execution_count": 23,
   "id": "inclusive-activation",
   "metadata": {},
   "outputs": [
    {
     "name": "stdout",
     "output_type": "stream",
     "text": [
      "/workspace/deeppose/training/logs/deeppose_paper2021_minimixamo/rebuttal/point_resnet/seed_3-num_blocks_enc_5\n",
      "/workspace/deeppose/training/logs/deeppose_paper2021_minimixamo/rebuttal/point_resnet/seed_1-num_blocks_enc_5\n",
      "/workspace/deeppose/training/logs/deeppose_paper2021_minimixamo/rebuttal/point_resnet/seed_0-num_blocks_enc_5\n",
      "/workspace/deeppose/training/logs/deeppose_paper2021_minimixamo/rebuttal/point_resnet/seed_2-num_blocks_enc_5\n"
     ]
    },
    {
     "data": {
      "text/html": [
       "<div>\n",
       "<style scoped>\n",
       "    .dataframe tbody tr th:only-of-type {\n",
       "        vertical-align: middle;\n",
       "    }\n",
       "\n",
       "    .dataframe tbody tr th {\n",
       "        vertical-align: top;\n",
       "    }\n",
       "\n",
       "    .dataframe thead th {\n",
       "        text-align: right;\n",
       "    }\n",
       "</style>\n",
       "<table border=\"1\" class=\"dataframe\">\n",
       "  <thead>\n",
       "    <tr style=\"text-align: right;\">\n",
       "      <th></th>\n",
       "      <th>mean</th>\n",
       "      <th>ci_low</th>\n",
       "      <th>ci_high</th>\n",
       "    </tr>\n",
       "  </thead>\n",
       "  <tbody>\n",
       "    <tr>\n",
       "      <th>benchmark/test/random/fk</th>\n",
       "      <td>0.004189</td>\n",
       "      <td>0.004176</td>\n",
       "      <td>0.004203</td>\n",
       "    </tr>\n",
       "    <tr>\n",
       "      <th>benchmark/test/random/position</th>\n",
       "      <td>0.001303</td>\n",
       "      <td>0.001294</td>\n",
       "      <td>0.001312</td>\n",
       "    </tr>\n",
       "    <tr>\n",
       "      <th>benchmark/test/random/rotation</th>\n",
       "      <td>0.239193</td>\n",
       "      <td>0.239020</td>\n",
       "      <td>0.239366</td>\n",
       "    </tr>\n",
       "  </tbody>\n",
       "</table>\n",
       "</div>"
      ],
      "text/plain": [
       "                                    mean    ci_low   ci_high\n",
       "benchmark/test/random/fk        0.004189  0.004176  0.004203\n",
       "benchmark/test/random/position  0.001303  0.001294  0.001312\n",
       "benchmark/test/random/rotation  0.239193  0.239020  0.239366"
      ]
     },
     "execution_count": 23,
     "metadata": {},
     "output_type": "execute_result"
    }
   ],
   "source": [
    "# lambda-dual2\n",
    "experiment = 'rebuttal/point_resnet/seed_*-num_blocks_enc_5'\n",
    "\n",
    "df = read_experiment_data(experiement_dir=os.path.join(ROOT_PATH, LOGS_PATH), experiment_pattern=experiment, metrics=metrics)\n",
    "get_stats(df).round(5)"
   ]
  },
  {
   "cell_type": "code",
   "execution_count": 24,
   "id": "theoretical-weekly",
   "metadata": {},
   "outputs": [
    {
     "name": "stdout",
     "output_type": "stream",
     "text": [
      "/workspace/deeppose/training/logs/deeppose_paper2021_minimixamo/rebuttal/point_resnet/seed_3-num_blocks_enc_7\n",
      "/workspace/deeppose/training/logs/deeppose_paper2021_minimixamo/rebuttal/point_resnet/seed_1-num_blocks_enc_7\n",
      "/workspace/deeppose/training/logs/deeppose_paper2021_minimixamo/rebuttal/point_resnet/seed_0-num_blocks_enc_7\n",
      "/workspace/deeppose/training/logs/deeppose_paper2021_minimixamo/rebuttal/point_resnet/seed_2-num_blocks_enc_7\n"
     ]
    },
    {
     "data": {
      "text/html": [
       "<div>\n",
       "<style scoped>\n",
       "    .dataframe tbody tr th:only-of-type {\n",
       "        vertical-align: middle;\n",
       "    }\n",
       "\n",
       "    .dataframe tbody tr th {\n",
       "        vertical-align: top;\n",
       "    }\n",
       "\n",
       "    .dataframe thead th {\n",
       "        text-align: right;\n",
       "    }\n",
       "</style>\n",
       "<table border=\"1\" class=\"dataframe\">\n",
       "  <thead>\n",
       "    <tr style=\"text-align: right;\">\n",
       "      <th></th>\n",
       "      <th>mean</th>\n",
       "      <th>ci_low</th>\n",
       "      <th>ci_high</th>\n",
       "    </tr>\n",
       "  </thead>\n",
       "  <tbody>\n",
       "    <tr>\n",
       "      <th>benchmark/test/random/fk</th>\n",
       "      <td>0.004263</td>\n",
       "      <td>0.004248</td>\n",
       "      <td>0.004279</td>\n",
       "    </tr>\n",
       "    <tr>\n",
       "      <th>benchmark/test/random/position</th>\n",
       "      <td>0.001322</td>\n",
       "      <td>0.001313</td>\n",
       "      <td>0.001332</td>\n",
       "    </tr>\n",
       "    <tr>\n",
       "      <th>benchmark/test/random/rotation</th>\n",
       "      <td>0.239892</td>\n",
       "      <td>0.239696</td>\n",
       "      <td>0.240087</td>\n",
       "    </tr>\n",
       "  </tbody>\n",
       "</table>\n",
       "</div>"
      ],
      "text/plain": [
       "                                    mean    ci_low   ci_high\n",
       "benchmark/test/random/fk        0.004263  0.004248  0.004279\n",
       "benchmark/test/random/position  0.001322  0.001313  0.001332\n",
       "benchmark/test/random/rotation  0.239892  0.239696  0.240087"
      ]
     },
     "execution_count": 24,
     "metadata": {},
     "output_type": "execute_result"
    }
   ],
   "source": [
    "# lambda-dual2\n",
    "experiment = 'rebuttal/point_resnet/seed_*-num_blocks_enc_7'\n",
    "\n",
    "df = read_experiment_data(experiement_dir=os.path.join(ROOT_PATH, LOGS_PATH), experiment_pattern=experiment, metrics=metrics)\n",
    "get_stats(df).round(5)"
   ]
  },
  {
   "cell_type": "markdown",
   "id": "communist-lucas",
   "metadata": {},
   "source": [
    "## Transformer"
   ]
  },
  {
   "cell_type": "code",
   "execution_count": 5,
   "id": "spiritual-scotland",
   "metadata": {},
   "outputs": [
    {
     "name": "stdout",
     "output_type": "stream",
     "text": [
      "/workspace/deeppose/training/logs/deeppose_paper2021_minimixamo/transformer/Transformer-seed-2-dmodel_128-dimfeedforward_1024-nhead_8-transformer_layers_2-fk_loss_scale_100.0-fcr_blocks_6\n",
      "/workspace/deeppose/training/logs/deeppose_paper2021_minimixamo/transformer/Transformer-seed-3-dmodel_128-dimfeedforward_1024-nhead_8-transformer_layers_2-fk_loss_scale_100.0-fcr_blocks_6\n",
      "/workspace/deeppose/training/logs/deeppose_paper2021_minimixamo/transformer/Transformer-seed-0-dmodel_128-dimfeedforward_1024-nhead_8-transformer_layers_2-fk_loss_scale_100.0-fcr_blocks_6\n",
      "/workspace/deeppose/training/logs/deeppose_paper2021_minimixamo/transformer/Transformer-seed-1-dmodel_128-dimfeedforward_1024-nhead_8-transformer_layers_2-fk_loss_scale_100.0-fcr_blocks_6\n"
     ]
    },
    {
     "data": {
      "text/html": [
       "<div>\n",
       "<style scoped>\n",
       "    .dataframe tbody tr th:only-of-type {\n",
       "        vertical-align: middle;\n",
       "    }\n",
       "\n",
       "    .dataframe tbody tr th {\n",
       "        vertical-align: top;\n",
       "    }\n",
       "\n",
       "    .dataframe thead th {\n",
       "        text-align: right;\n",
       "    }\n",
       "</style>\n",
       "<table border=\"1\" class=\"dataframe\">\n",
       "  <thead>\n",
       "    <tr style=\"text-align: right;\">\n",
       "      <th></th>\n",
       "      <th>mean</th>\n",
       "      <th>ci_low</th>\n",
       "      <th>ci_high</th>\n",
       "    </tr>\n",
       "  </thead>\n",
       "  <tbody>\n",
       "    <tr>\n",
       "      <th>benchmark/test/random/fk</th>\n",
       "      <td>0.00432</td>\n",
       "      <td>0.00432</td>\n",
       "      <td>0.00433</td>\n",
       "    </tr>\n",
       "    <tr>\n",
       "      <th>benchmark/test/random/position</th>\n",
       "      <td>0.00163</td>\n",
       "      <td>0.00162</td>\n",
       "      <td>0.00164</td>\n",
       "    </tr>\n",
       "    <tr>\n",
       "      <th>benchmark/test/random/rotation</th>\n",
       "      <td>0.25981</td>\n",
       "      <td>0.25972</td>\n",
       "      <td>0.25990</td>\n",
       "    </tr>\n",
       "    <tr>\n",
       "      <th>benchmark/test/fivepoint/fk</th>\n",
       "      <td>0.00206</td>\n",
       "      <td>0.00206</td>\n",
       "      <td>0.00207</td>\n",
       "    </tr>\n",
       "    <tr>\n",
       "      <th>benchmark/test/fivepoint/position</th>\n",
       "      <td>0.00110</td>\n",
       "      <td>0.00109</td>\n",
       "      <td>0.00111</td>\n",
       "    </tr>\n",
       "    <tr>\n",
       "      <th>benchmark/test/fivepoint/rotation</th>\n",
       "      <td>0.26964</td>\n",
       "      <td>0.26946</td>\n",
       "      <td>0.26982</td>\n",
       "    </tr>\n",
       "  </tbody>\n",
       "</table>\n",
       "</div>"
      ],
      "text/plain": [
       "                                      mean   ci_low  ci_high\n",
       "benchmark/test/random/fk           0.00432  0.00432  0.00433\n",
       "benchmark/test/random/position     0.00163  0.00162  0.00164\n",
       "benchmark/test/random/rotation     0.25981  0.25972  0.25990\n",
       "benchmark/test/fivepoint/fk        0.00206  0.00206  0.00207\n",
       "benchmark/test/fivepoint/position  0.00110  0.00109  0.00111\n",
       "benchmark/test/fivepoint/rotation  0.26964  0.26946  0.26982"
      ]
     },
     "execution_count": 5,
     "metadata": {},
     "output_type": "execute_result"
    }
   ],
   "source": [
    "# lambda-a6000-1\n",
    "experiment = 'transformer/Transformer-seed-*-dmodel_128-dimfeedforward_1024-nhead_8-transformer_layers_2-fk_loss_scale_100.0-fcr_blocks_6'\n",
    "\n",
    "df = read_experiment_data(experiement_dir=os.path.join(ROOT_PATH, LOGS_PATH), experiment_pattern=experiment, metrics=metrics)\n",
    "get_stats(df).round(5)"
   ]
  },
  {
   "cell_type": "markdown",
   "id": "chief-letter",
   "metadata": {},
   "source": [
    "## MaskedFCR"
   ]
  },
  {
   "cell_type": "code",
   "execution_count": 4,
   "id": "cooperative-storage",
   "metadata": {},
   "outputs": [
    {
     "name": "stdout",
     "output_type": "stream",
     "text": [
      "/workspace/deeppose/training/logs/deeppose_paper2021_minimixamo/masked_fcr/Backbone_deeppose.collections.posing.modules.MaskedFcr.MaskedFcr-seed_0-lr_0.0002\n",
      "/workspace/deeppose/training/logs/deeppose_paper2021_minimixamo/masked_fcr/Backbone_deeppose.collections.posing.modules.MaskedFcr.MaskedFcr-seed_1-lr_0.0002\n"
     ]
    },
    {
     "data": {
      "text/html": [
       "<div>\n",
       "<style scoped>\n",
       "    .dataframe tbody tr th:only-of-type {\n",
       "        vertical-align: middle;\n",
       "    }\n",
       "\n",
       "    .dataframe tbody tr th {\n",
       "        vertical-align: top;\n",
       "    }\n",
       "\n",
       "    .dataframe thead th {\n",
       "        text-align: right;\n",
       "    }\n",
       "</style>\n",
       "<table border=\"1\" class=\"dataframe\">\n",
       "  <thead>\n",
       "    <tr style=\"text-align: right;\">\n",
       "      <th></th>\n",
       "      <th>mean</th>\n",
       "      <th>ci_low</th>\n",
       "      <th>ci_high</th>\n",
       "    </tr>\n",
       "  </thead>\n",
       "  <tbody>\n",
       "    <tr>\n",
       "      <th>benchmark/test/random/fk</th>\n",
       "      <td>0.03521</td>\n",
       "      <td>0.03504</td>\n",
       "      <td>0.03539</td>\n",
       "    </tr>\n",
       "    <tr>\n",
       "      <th>benchmark/test/random/position</th>\n",
       "      <td>0.01502</td>\n",
       "      <td>0.01489</td>\n",
       "      <td>0.01515</td>\n",
       "    </tr>\n",
       "    <tr>\n",
       "      <th>benchmark/test/random/rotation</th>\n",
       "      <td>0.31358</td>\n",
       "      <td>0.31305</td>\n",
       "      <td>0.31410</td>\n",
       "    </tr>\n",
       "    <tr>\n",
       "      <th>benchmark/test/fivepoint/fk</th>\n",
       "      <td>0.00249</td>\n",
       "      <td>0.00242</td>\n",
       "      <td>0.00255</td>\n",
       "    </tr>\n",
       "    <tr>\n",
       "      <th>benchmark/test/fivepoint/position</th>\n",
       "      <td>0.00130</td>\n",
       "      <td>0.00128</td>\n",
       "      <td>0.00133</td>\n",
       "    </tr>\n",
       "    <tr>\n",
       "      <th>benchmark/test/fivepoint/rotation</th>\n",
       "      <td>0.26065</td>\n",
       "      <td>0.25986</td>\n",
       "      <td>0.26143</td>\n",
       "    </tr>\n",
       "  </tbody>\n",
       "</table>\n",
       "</div>"
      ],
      "text/plain": [
       "                                      mean   ci_low  ci_high\n",
       "benchmark/test/random/fk           0.03521  0.03504  0.03539\n",
       "benchmark/test/random/position     0.01502  0.01489  0.01515\n",
       "benchmark/test/random/rotation     0.31358  0.31305  0.31410\n",
       "benchmark/test/fivepoint/fk        0.00249  0.00242  0.00255\n",
       "benchmark/test/fivepoint/position  0.00130  0.00128  0.00133\n",
       "benchmark/test/fivepoint/rotation  0.26065  0.25986  0.26143"
      ]
     },
     "execution_count": 4,
     "metadata": {},
     "output_type": "execute_result"
    }
   ],
   "source": [
    "# r720-1\n",
    "experiment = 'masked_fcr/Backbone_deeppose.collections.posing.modules.MaskedFcr.MaskedFcr-seed_*-lr_0.0002'\n",
    "\n",
    "df = read_experiment_data(experiement_dir=os.path.join(ROOT_PATH, LOGS_PATH), experiment_pattern=experiment, metrics=metrics)\n",
    "get_stats(df).round(5)"
   ]
  },
  {
   "cell_type": "markdown",
   "id": "systematic-martial",
   "metadata": {},
   "source": [
    "## Ablation GPD"
   ]
  },
  {
   "cell_type": "code",
   "execution_count": 31,
   "id": "limited-tsunami",
   "metadata": {},
   "outputs": [
    {
     "name": "stdout",
     "output_type": "stream",
     "text": [
      "/workspace/deeppose/training/logs/deeppose_paper2021_minimixamo/ablation_gpd/SingleStage-seed_1-num_blocks_stage_6-fk_loss_scale_100.0\n",
      "/workspace/deeppose/training/logs/deeppose_paper2021_minimixamo/ablation_gpd/SingleStage-seed_0-num_blocks_stage_6-fk_loss_scale_100.0\n"
     ]
    },
    {
     "data": {
      "text/html": [
       "<div>\n",
       "<style scoped>\n",
       "    .dataframe tbody tr th:only-of-type {\n",
       "        vertical-align: middle;\n",
       "    }\n",
       "\n",
       "    .dataframe tbody tr th {\n",
       "        vertical-align: top;\n",
       "    }\n",
       "\n",
       "    .dataframe thead th {\n",
       "        text-align: right;\n",
       "    }\n",
       "</style>\n",
       "<table border=\"1\" class=\"dataframe\">\n",
       "  <thead>\n",
       "    <tr style=\"text-align: right;\">\n",
       "      <th></th>\n",
       "      <th>mean</th>\n",
       "      <th>ci_low</th>\n",
       "      <th>ci_high</th>\n",
       "    </tr>\n",
       "  </thead>\n",
       "  <tbody>\n",
       "    <tr>\n",
       "      <th>benchmark/test/random/fk</th>\n",
       "      <td>0.00439</td>\n",
       "      <td>0.00438</td>\n",
       "      <td>0.00441</td>\n",
       "    </tr>\n",
       "    <tr>\n",
       "      <th>benchmark/test/random/position</th>\n",
       "      <td>0.00143</td>\n",
       "      <td>0.00142</td>\n",
       "      <td>0.00144</td>\n",
       "    </tr>\n",
       "    <tr>\n",
       "      <th>benchmark/test/random/rotation</th>\n",
       "      <td>0.24132</td>\n",
       "      <td>0.24108</td>\n",
       "      <td>0.24156</td>\n",
       "    </tr>\n",
       "    <tr>\n",
       "      <th>benchmark/test/fivepoint/fk</th>\n",
       "      <td>0.00216</td>\n",
       "      <td>0.00214</td>\n",
       "      <td>0.00217</td>\n",
       "    </tr>\n",
       "    <tr>\n",
       "      <th>benchmark/test/fivepoint/position</th>\n",
       "      <td>0.00113</td>\n",
       "      <td>0.00112</td>\n",
       "      <td>0.00114</td>\n",
       "    </tr>\n",
       "    <tr>\n",
       "      <th>benchmark/test/fivepoint/rotation</th>\n",
       "      <td>0.25590</td>\n",
       "      <td>0.25563</td>\n",
       "      <td>0.25618</td>\n",
       "    </tr>\n",
       "  </tbody>\n",
       "</table>\n",
       "</div>"
      ],
      "text/plain": [
       "                                      mean   ci_low  ci_high\n",
       "benchmark/test/random/fk           0.00439  0.00438  0.00441\n",
       "benchmark/test/random/position     0.00143  0.00142  0.00144\n",
       "benchmark/test/random/rotation     0.24132  0.24108  0.24156\n",
       "benchmark/test/fivepoint/fk        0.00216  0.00214  0.00217\n",
       "benchmark/test/fivepoint/position  0.00113  0.00112  0.00114\n",
       "benchmark/test/fivepoint/rotation  0.25590  0.25563  0.25618"
      ]
     },
     "execution_count": 31,
     "metadata": {},
     "output_type": "execute_result"
    }
   ],
   "source": [
    "# lambda-dual2\n",
    "experiment = 'ablation_gpd/SingleStage-seed_*-num_blocks_stage_6-fk_loss_scale_100.0'\n",
    "\n",
    "df = read_experiment_data(experiement_dir=os.path.join(ROOT_PATH, LOGS_PATH), experiment_pattern=experiment, metrics=metrics)\n",
    "get_stats(df).round(5)"
   ]
  },
  {
   "cell_type": "markdown",
   "id": "selected-motivation",
   "metadata": {},
   "source": [
    "## Ablation losses"
   ]
  },
  {
   "cell_type": "code",
   "execution_count": 32,
   "id": "honey-secret",
   "metadata": {},
   "outputs": [
    {
     "name": "stdout",
     "output_type": "stream",
     "text": [
      "/workspace/deeppose/training/logs/deeppose_paper2021_minimixamo/loss_ablation/seed_1-FK_True-Pos_True-Rot_False\n",
      "/workspace/deeppose/training/logs/deeppose_paper2021_minimixamo/loss_ablation/seed_0-FK_True-Pos_True-Rot_False\n"
     ]
    },
    {
     "data": {
      "text/html": [
       "<div>\n",
       "<style scoped>\n",
       "    .dataframe tbody tr th:only-of-type {\n",
       "        vertical-align: middle;\n",
       "    }\n",
       "\n",
       "    .dataframe tbody tr th {\n",
       "        vertical-align: top;\n",
       "    }\n",
       "\n",
       "    .dataframe thead th {\n",
       "        text-align: right;\n",
       "    }\n",
       "</style>\n",
       "<table border=\"1\" class=\"dataframe\">\n",
       "  <thead>\n",
       "    <tr style=\"text-align: right;\">\n",
       "      <th></th>\n",
       "      <th>mean</th>\n",
       "      <th>ci_low</th>\n",
       "      <th>ci_high</th>\n",
       "    </tr>\n",
       "  </thead>\n",
       "  <tbody>\n",
       "    <tr>\n",
       "      <th>benchmark/test/random/fk</th>\n",
       "      <td>0.00449</td>\n",
       "      <td>0.00447</td>\n",
       "      <td>0.00451</td>\n",
       "    </tr>\n",
       "    <tr>\n",
       "      <th>benchmark/test/random/position</th>\n",
       "      <td>0.00160</td>\n",
       "      <td>0.00159</td>\n",
       "      <td>0.00162</td>\n",
       "    </tr>\n",
       "    <tr>\n",
       "      <th>benchmark/test/random/rotation</th>\n",
       "      <td>0.27381</td>\n",
       "      <td>0.27343</td>\n",
       "      <td>0.27420</td>\n",
       "    </tr>\n",
       "    <tr>\n",
       "      <th>benchmark/test/fivepoint/fk</th>\n",
       "      <td>0.00242</td>\n",
       "      <td>0.00240</td>\n",
       "      <td>0.00243</td>\n",
       "    </tr>\n",
       "    <tr>\n",
       "      <th>benchmark/test/fivepoint/position</th>\n",
       "      <td>0.00120</td>\n",
       "      <td>0.00118</td>\n",
       "      <td>0.00121</td>\n",
       "    </tr>\n",
       "    <tr>\n",
       "      <th>benchmark/test/fivepoint/rotation</th>\n",
       "      <td>0.28560</td>\n",
       "      <td>0.28537</td>\n",
       "      <td>0.28582</td>\n",
       "    </tr>\n",
       "  </tbody>\n",
       "</table>\n",
       "</div>"
      ],
      "text/plain": [
       "                                      mean   ci_low  ci_high\n",
       "benchmark/test/random/fk           0.00449  0.00447  0.00451\n",
       "benchmark/test/random/position     0.00160  0.00159  0.00162\n",
       "benchmark/test/random/rotation     0.27381  0.27343  0.27420\n",
       "benchmark/test/fivepoint/fk        0.00242  0.00240  0.00243\n",
       "benchmark/test/fivepoint/position  0.00120  0.00118  0.00121\n",
       "benchmark/test/fivepoint/rotation  0.28560  0.28537  0.28582"
      ]
     },
     "execution_count": 32,
     "metadata": {},
     "output_type": "execute_result"
    }
   ],
   "source": [
    "# lambda-dual2\n",
    "experiment = 'loss_ablation/seed_*-FK_True-Pos_True-Rot_False'\n",
    "\n",
    "df = read_experiment_data(experiement_dir=os.path.join(ROOT_PATH, LOGS_PATH), experiment_pattern=experiment, metrics=metrics)\n",
    "get_stats(df).round(5)"
   ]
  },
  {
   "cell_type": "code",
   "execution_count": 33,
   "id": "departmental-origin",
   "metadata": {},
   "outputs": [
    {
     "name": "stdout",
     "output_type": "stream",
     "text": [
      "/workspace/deeppose/training/logs/deeppose_paper2021_minimixamo/loss_ablation/seed_0-FK_False-Pos_True-Rot_True\n",
      "/workspace/deeppose/training/logs/deeppose_paper2021_minimixamo/loss_ablation/seed_1-FK_False-Pos_True-Rot_True\n"
     ]
    },
    {
     "data": {
      "text/html": [
       "<div>\n",
       "<style scoped>\n",
       "    .dataframe tbody tr th:only-of-type {\n",
       "        vertical-align: middle;\n",
       "    }\n",
       "\n",
       "    .dataframe tbody tr th {\n",
       "        vertical-align: top;\n",
       "    }\n",
       "\n",
       "    .dataframe thead th {\n",
       "        text-align: right;\n",
       "    }\n",
       "</style>\n",
       "<table border=\"1\" class=\"dataframe\">\n",
       "  <thead>\n",
       "    <tr style=\"text-align: right;\">\n",
       "      <th></th>\n",
       "      <th>mean</th>\n",
       "      <th>ci_low</th>\n",
       "      <th>ci_high</th>\n",
       "    </tr>\n",
       "  </thead>\n",
       "  <tbody>\n",
       "    <tr>\n",
       "      <th>benchmark/test/random/fk</th>\n",
       "      <td>0.00619</td>\n",
       "      <td>0.00616</td>\n",
       "      <td>0.00622</td>\n",
       "    </tr>\n",
       "    <tr>\n",
       "      <th>benchmark/test/random/position</th>\n",
       "      <td>0.00204</td>\n",
       "      <td>0.00202</td>\n",
       "      <td>0.00206</td>\n",
       "    </tr>\n",
       "    <tr>\n",
       "      <th>benchmark/test/random/rotation</th>\n",
       "      <td>0.24419</td>\n",
       "      <td>0.24398</td>\n",
       "      <td>0.24440</td>\n",
       "    </tr>\n",
       "    <tr>\n",
       "      <th>benchmark/test/fivepoint/fk</th>\n",
       "      <td>0.00356</td>\n",
       "      <td>0.00353</td>\n",
       "      <td>0.00358</td>\n",
       "    </tr>\n",
       "    <tr>\n",
       "      <th>benchmark/test/fivepoint/position</th>\n",
       "      <td>0.00164</td>\n",
       "      <td>0.00162</td>\n",
       "      <td>0.00167</td>\n",
       "    </tr>\n",
       "    <tr>\n",
       "      <th>benchmark/test/fivepoint/rotation</th>\n",
       "      <td>0.25585</td>\n",
       "      <td>0.25558</td>\n",
       "      <td>0.25613</td>\n",
       "    </tr>\n",
       "  </tbody>\n",
       "</table>\n",
       "</div>"
      ],
      "text/plain": [
       "                                      mean   ci_low  ci_high\n",
       "benchmark/test/random/fk           0.00619  0.00616  0.00622\n",
       "benchmark/test/random/position     0.00204  0.00202  0.00206\n",
       "benchmark/test/random/rotation     0.24419  0.24398  0.24440\n",
       "benchmark/test/fivepoint/fk        0.00356  0.00353  0.00358\n",
       "benchmark/test/fivepoint/position  0.00164  0.00162  0.00167\n",
       "benchmark/test/fivepoint/rotation  0.25585  0.25558  0.25613"
      ]
     },
     "execution_count": 33,
     "metadata": {},
     "output_type": "execute_result"
    }
   ],
   "source": [
    "# lambda-dual2\n",
    "experiment = 'loss_ablation/seed_*-FK_False-Pos_True-Rot_True'\n",
    "\n",
    "df = read_experiment_data(experiement_dir=os.path.join(ROOT_PATH, LOGS_PATH), experiment_pattern=experiment, metrics=metrics)\n",
    "get_stats(df).round(5)"
   ]
  },
  {
   "cell_type": "markdown",
   "id": "419d5763",
   "metadata": {},
   "source": [
    "## Ablation randomized weighted sampling"
   ]
  },
  {
   "cell_type": "code",
   "execution_count": 5,
   "id": "royal-childhood",
   "metadata": {},
   "outputs": [
    {
     "name": "stdout",
     "output_type": "stream",
     "text": [
      "/workspace/deeppose/training/logs/deeppose_paper2021_minimixamo/noise_weighted_loss/seed_0-noise_True-Weighted_False-fk_loss_scale_100.0-use_lookat_loss_True\n",
      "/workspace/deeppose/training/logs/deeppose_paper2021_minimixamo/noise_weighted_loss/seed_1-noise_True-Weighted_False-fk_loss_scale_100.0-use_lookat_loss_True\n",
      "/workspace/deeppose/training/logs/deeppose_paper2021_minimixamo/noise_weighted_loss/seed_3-noise_True-Weighted_False-fk_loss_scale_100.0-use_lookat_loss_True\n"
     ]
    },
    {
     "data": {
      "text/html": [
       "<div>\n",
       "<style scoped>\n",
       "    .dataframe tbody tr th:only-of-type {\n",
       "        vertical-align: middle;\n",
       "    }\n",
       "\n",
       "    .dataframe tbody tr th {\n",
       "        vertical-align: top;\n",
       "    }\n",
       "\n",
       "    .dataframe thead th {\n",
       "        text-align: right;\n",
       "    }\n",
       "</style>\n",
       "<table border=\"1\" class=\"dataframe\">\n",
       "  <thead>\n",
       "    <tr style=\"text-align: right;\">\n",
       "      <th></th>\n",
       "      <th>mean</th>\n",
       "      <th>ci_low</th>\n",
       "      <th>ci_high</th>\n",
       "    </tr>\n",
       "  </thead>\n",
       "  <tbody>\n",
       "    <tr>\n",
       "      <th>benchmark/test/random/fk</th>\n",
       "      <td>0.00493</td>\n",
       "      <td>0.00492</td>\n",
       "      <td>0.00493</td>\n",
       "    </tr>\n",
       "    <tr>\n",
       "      <th>benchmark/test/random/position</th>\n",
       "      <td>0.00177</td>\n",
       "      <td>0.00177</td>\n",
       "      <td>0.00178</td>\n",
       "    </tr>\n",
       "    <tr>\n",
       "      <th>benchmark/test/random/rotation</th>\n",
       "      <td>0.25487</td>\n",
       "      <td>0.25476</td>\n",
       "      <td>0.25499</td>\n",
       "    </tr>\n",
       "    <tr>\n",
       "      <th>benchmark/test/fivepoint/fk</th>\n",
       "      <td>0.00264</td>\n",
       "      <td>0.00263</td>\n",
       "      <td>0.00264</td>\n",
       "    </tr>\n",
       "    <tr>\n",
       "      <th>benchmark/test/fivepoint/position</th>\n",
       "      <td>0.00130</td>\n",
       "      <td>0.00130</td>\n",
       "      <td>0.00131</td>\n",
       "    </tr>\n",
       "    <tr>\n",
       "      <th>benchmark/test/fivepoint/rotation</th>\n",
       "      <td>0.26321</td>\n",
       "      <td>0.26299</td>\n",
       "      <td>0.26343</td>\n",
       "    </tr>\n",
       "  </tbody>\n",
       "</table>\n",
       "</div>"
      ],
      "text/plain": [
       "                                      mean   ci_low  ci_high\n",
       "benchmark/test/random/fk           0.00493  0.00492  0.00493\n",
       "benchmark/test/random/position     0.00177  0.00177  0.00178\n",
       "benchmark/test/random/rotation     0.25487  0.25476  0.25499\n",
       "benchmark/test/fivepoint/fk        0.00264  0.00263  0.00264\n",
       "benchmark/test/fivepoint/position  0.00130  0.00130  0.00131\n",
       "benchmark/test/fivepoint/rotation  0.26321  0.26299  0.26343"
      ]
     },
     "execution_count": 5,
     "metadata": {},
     "output_type": "execute_result"
    }
   ],
   "source": [
    "# r720-1\n",
    "experiment = 'noise_weighted_loss/seed_*-noise_True-Weighted_False-fk_loss_scale_100.0-use_lookat_loss_True'\n",
    "\n",
    "df = read_experiment_data(experiement_dir=os.path.join(ROOT_PATH, LOGS_PATH), experiment_pattern=experiment, metrics=metrics)\n",
    "get_stats(df).round(5)"
   ]
  },
  {
   "cell_type": "code",
   "execution_count": 6,
   "id": "328c9056",
   "metadata": {},
   "outputs": [
    {
     "name": "stdout",
     "output_type": "stream",
     "text": [
      "/workspace/deeppose/training/logs/deeppose_paper2021_minimixamo/noise_weighted_loss/seed_3-noise_True-Weighted_False-fk_loss_scale_1000.0-use_lookat_loss_True\n",
      "/workspace/deeppose/training/logs/deeppose_paper2021_minimixamo/noise_weighted_loss/seed_0-noise_True-Weighted_False-fk_loss_scale_1000.0-use_lookat_loss_True\n",
      "/workspace/deeppose/training/logs/deeppose_paper2021_minimixamo/noise_weighted_loss/seed_1-noise_True-Weighted_False-fk_loss_scale_1000.0-use_lookat_loss_True\n"
     ]
    },
    {
     "data": {
      "text/html": [
       "<div>\n",
       "<style scoped>\n",
       "    .dataframe tbody tr th:only-of-type {\n",
       "        vertical-align: middle;\n",
       "    }\n",
       "\n",
       "    .dataframe tbody tr th {\n",
       "        vertical-align: top;\n",
       "    }\n",
       "\n",
       "    .dataframe thead th {\n",
       "        text-align: right;\n",
       "    }\n",
       "</style>\n",
       "<table border=\"1\" class=\"dataframe\">\n",
       "  <thead>\n",
       "    <tr style=\"text-align: right;\">\n",
       "      <th></th>\n",
       "      <th>mean</th>\n",
       "      <th>ci_low</th>\n",
       "      <th>ci_high</th>\n",
       "    </tr>\n",
       "  </thead>\n",
       "  <tbody>\n",
       "    <tr>\n",
       "      <th>benchmark/test/random/fk</th>\n",
       "      <td>0.00475</td>\n",
       "      <td>0.00473</td>\n",
       "      <td>0.00476</td>\n",
       "    </tr>\n",
       "    <tr>\n",
       "      <th>benchmark/test/random/position</th>\n",
       "      <td>0.00166</td>\n",
       "      <td>0.00165</td>\n",
       "      <td>0.00166</td>\n",
       "    </tr>\n",
       "    <tr>\n",
       "      <th>benchmark/test/random/rotation</th>\n",
       "      <td>0.26682</td>\n",
       "      <td>0.26669</td>\n",
       "      <td>0.26695</td>\n",
       "    </tr>\n",
       "    <tr>\n",
       "      <th>benchmark/test/fivepoint/fk</th>\n",
       "      <td>0.00250</td>\n",
       "      <td>0.00249</td>\n",
       "      <td>0.00250</td>\n",
       "    </tr>\n",
       "    <tr>\n",
       "      <th>benchmark/test/fivepoint/position</th>\n",
       "      <td>0.00120</td>\n",
       "      <td>0.00119</td>\n",
       "      <td>0.00120</td>\n",
       "    </tr>\n",
       "    <tr>\n",
       "      <th>benchmark/test/fivepoint/rotation</th>\n",
       "      <td>0.27421</td>\n",
       "      <td>0.27400</td>\n",
       "      <td>0.27442</td>\n",
       "    </tr>\n",
       "  </tbody>\n",
       "</table>\n",
       "</div>"
      ],
      "text/plain": [
       "                                      mean   ci_low  ci_high\n",
       "benchmark/test/random/fk           0.00475  0.00473  0.00476\n",
       "benchmark/test/random/position     0.00166  0.00165  0.00166\n",
       "benchmark/test/random/rotation     0.26682  0.26669  0.26695\n",
       "benchmark/test/fivepoint/fk        0.00250  0.00249  0.00250\n",
       "benchmark/test/fivepoint/position  0.00120  0.00119  0.00120\n",
       "benchmark/test/fivepoint/rotation  0.27421  0.27400  0.27442"
      ]
     },
     "execution_count": 6,
     "metadata": {},
     "output_type": "execute_result"
    }
   ],
   "source": [
    "# r720-1\n",
    "experiment = 'noise_weighted_loss/seed_*-noise_True-Weighted_False-fk_loss_scale_1000.0-use_lookat_loss_True'\n",
    "\n",
    "df = read_experiment_data(experiement_dir=os.path.join(ROOT_PATH, LOGS_PATH), experiment_pattern=experiment, metrics=metrics)\n",
    "get_stats(df).round(5)"
   ]
  },
  {
   "cell_type": "code",
   "execution_count": null,
   "id": "ee11bf59",
   "metadata": {},
   "outputs": [],
   "source": []
  }
 ],
 "metadata": {
  "kernelspec": {
   "display_name": "Python 3",
   "language": "python",
   "name": "python3"
  },
  "language_info": {
   "codemirror_mode": {
    "name": "ipython",
    "version": 3
   },
   "file_extension": ".py",
   "mimetype": "text/x-python",
   "name": "python",
   "nbconvert_exporter": "python",
   "pygments_lexer": "ipython3",
   "version": "3.7.7"
  }
 },
 "nbformat": 4,
 "nbformat_minor": 5
}
